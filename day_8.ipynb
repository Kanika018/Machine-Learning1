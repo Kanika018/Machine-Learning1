{
  "nbformat": 4,
  "nbformat_minor": 0,
  "metadata": {
    "colab": {
      "name": "day 8",
      "version": "0.3.2",
      "provenance": [],
      "collapsed_sections": [],
      "include_colab_link": true
    },
    "kernelspec": {
      "name": "python3",
      "display_name": "Python 3"
    }
  },
  "cells": [
    {
      "cell_type": "markdown",
      "metadata": {
        "id": "view-in-github",
        "colab_type": "text"
      },
      "source": [
        "<a href=\"https://colab.research.google.com/github/Kanika018/Machine-Learning1/blob/master/day_8.ipynb\" target=\"_parent\"><img src=\"https://colab.research.google.com/assets/colab-badge.svg\" alt=\"Open In Colab\"/></a>"
      ]
    },
    {
      "cell_type": "code",
      "metadata": {
        "id": "Ft64zPzOLgqA",
        "colab_type": "code",
        "colab": {}
      },
      "source": [
        "from sklearn.datasets import load_digits"
      ],
      "execution_count": 0,
      "outputs": []
    },
    {
      "cell_type": "code",
      "metadata": {
        "id": "q68P3OSOMFqV",
        "colab_type": "code",
        "colab": {}
      },
      "source": [
        "# loading digit data\n",
        "digit=load_digits()"
      ],
      "execution_count": 0,
      "outputs": []
    },
    {
      "cell_type": "code",
      "metadata": {
        "id": "F_B_D48eMN6z",
        "colab_type": "code",
        "colab": {
          "base_uri": "https://localhost:8080/",
          "height": 34
        },
        "outputId": "0eac6bbb-4889-4396-ac5a-b6c256428b31"
      },
      "source": [
        "dir(digit)"
      ],
      "execution_count": 3,
      "outputs": [
        {
          "output_type": "execute_result",
          "data": {
            "text/plain": [
              "['DESCR', 'data', 'images', 'target', 'target_names']"
            ]
          },
          "metadata": {
            "tags": []
          },
          "execution_count": 3
        }
      ]
    },
    {
      "cell_type": "code",
      "metadata": {
        "id": "MgCsI4r1MQej",
        "colab_type": "code",
        "colab": {}
      },
      "source": [
        "features=digit.data"
      ],
      "execution_count": 0,
      "outputs": []
    },
    {
      "cell_type": "code",
      "metadata": {
        "id": "Aik6iXeoMTt5",
        "colab_type": "code",
        "colab": {}
      },
      "source": [
        "label=digit.target"
      ],
      "execution_count": 0,
      "outputs": []
    },
    {
      "cell_type": "code",
      "metadata": {
        "id": "FCeqI7n1McCR",
        "colab_type": "code",
        "colab": {}
      },
      "source": [
        "# training and testing\n",
        "from sklearn.model_selection import train_test_split"
      ],
      "execution_count": 0,
      "outputs": []
    },
    {
      "cell_type": "code",
      "metadata": {
        "id": "fVJbjgjDMm2c",
        "colab_type": "code",
        "colab": {}
      },
      "source": [
        "X,x,Y,y=train_test_split(features,label,test_size=0.2)"
      ],
      "execution_count": 0,
      "outputs": []
    },
    {
      "cell_type": "code",
      "metadata": {
        "id": "M7dZ69E3MyLc",
        "colab_type": "code",
        "colab": {}
      },
      "source": [
        "import matplotlib.pyplot as plt"
      ],
      "execution_count": 0,
      "outputs": []
    },
    {
      "cell_type": "code",
      "metadata": {
        "id": "uvhPejkJNFOP",
        "colab_type": "code",
        "colab": {
          "base_uri": "https://localhost:8080/",
          "height": 286
        },
        "outputId": "9b3794d4-f34a-4ad4-ffdd-47b9c629dabb"
      },
      "source": [
        "plt.imshow(digit.images[0])"
      ],
      "execution_count": 11,
      "outputs": [
        {
          "output_type": "execute_result",
          "data": {
            "text/plain": [
              "<matplotlib.image.AxesImage at 0x7f71c6e3d8d0>"
            ]
          },
          "metadata": {
            "tags": []
          },
          "execution_count": 11
        },
        {
          "output_type": "display_data",
          "data": {
            "image/png": "[encoded data removed]",
            "text/plain": [
              "<Figure size 432x288 with 1 Axes>"
            ]
          },
          "metadata": {
            "tags": []
          }
        }
      ]
    },
    {
      "cell_type": "code",
      "metadata": {
        "id": "K0jYikmbNLHD",
        "colab_type": "code",
        "colab": {}
      },
      "source": [
        "# now calling support vector claasifier\n",
        "from sklearn.svm import SVC"
      ],
      "execution_count": 0,
      "outputs": []
    },
    {
      "cell_type": "code",
      "metadata": {
        "id": "U5kwIT3WNeoW",
        "colab_type": "code",
        "colab": {}
      },
      "source": [
        "# calling classifier\n",
        "clf=SVC()"
      ],
      "execution_count": 0,
      "outputs": []
    },
    {
      "cell_type": "code",
      "metadata": {
        "id": "g376coAzO-XE",
        "colab_type": "code",
        "colab": {
          "base_uri": "https://localhost:8080/",
          "height": 72
        },
        "outputId": "55ca64e2-cb24-4f2d-e27c-7f21273496f7"
      },
      "source": [
        "# now training my classifier\n",
        "trained=clf.fit(X,Y)"
      ],
      "execution_count": 15,
      "outputs": [
        {
          "output_type": "stream",
          "text": [
            "/usr/local/lib/python3.6/dist-packages/sklearn/svm/base.py:193: FutureWarning: The default value of gamma will change from 'auto' to 'scale' in version 0.22 to account better for unscaled features. Set gamma explicitly to 'auto' or 'scale' to avoid this warning.\n",
            "  \"avoid this warning.\", FutureWarning)\n"
          ],
          "name": "stderr"
        }
      ]
    },
    {
      "cell_type": "code",
      "metadata": {
        "id": "_dn4iKeAPGKd",
        "colab_type": "code",
        "colab": {}
      },
      "source": [
        "# now time for prediction\n",
        " output=trained.predict(x)"
      ],
      "execution_count": 0,
      "outputs": []
    },
    {
      "cell_type": "code",
      "metadata": {
        "id": "0e9L7MbuPS7j",
        "colab_type": "code",
        "colab": {
          "base_uri": "https://localhost:8080/",
          "height": 316
        },
        "outputId": "8d3a0c52-0482-4142-d431-c52fa485aca4"
      },
      "source": [
        "output"
      ],
      "execution_count": 17,
      "outputs": [
        {
          "output_type": "execute_result",
          "data": {
            "text/plain": [
              "array([8, 5, 9, 5, 6, 5, 2, 5, 6, 5, 5, 9, 7, 5, 0, 2, 9, 1, 5, 1, 5, 5,\n",
              "       5, 5, 3, 5, 5, 9, 1, 5, 9, 5, 0, 5, 4, 6, 9, 0, 5, 9, 0, 5, 5, 5,\n",
              "       5, 5, 5, 5, 3, 7, 5, 2, 5, 5, 7, 5, 5, 9, 2, 0, 4, 5, 8, 9, 5, 9,\n",
              "       9, 5, 0, 0, 9, 5, 0, 0, 5, 6, 0, 5, 9, 3, 5, 5, 5, 5, 9, 5, 3, 5,\n",
              "       6, 1, 6, 1, 5, 2, 5, 5, 5, 1, 9, 5, 5, 5, 5, 0, 7, 0, 4, 5, 3, 5,\n",
              "       7, 5, 7, 5, 7, 5, 5, 7, 5, 5, 5, 5, 5, 3, 1, 5, 5, 5, 5, 6, 5, 6,\n",
              "       5, 5, 5, 5, 7, 6, 8, 5, 5, 6, 2, 3, 7, 2, 5, 1, 1, 5, 5, 7, 0, 5,\n",
              "       0, 9, 2, 4, 5, 5, 0, 8, 6, 1, 5, 5, 4, 5, 0, 5, 6, 5, 5, 4, 6, 5,\n",
              "       9, 5, 0, 5, 5, 4, 5, 5, 0, 5, 2, 5, 3, 5, 5, 7, 5, 5, 5, 5, 5, 5,\n",
              "       7, 9, 1, 5, 5, 6, 5, 5, 3, 5, 9, 9, 6, 5, 5, 5, 5, 5, 5, 5, 5, 5,\n",
              "       5, 7, 6, 6, 5, 2, 5, 5, 5, 5, 5, 6, 5, 5, 5, 5, 1, 4, 8, 5, 5, 5,\n",
              "       5, 4, 1, 2, 5, 5, 0, 9, 6, 5, 9, 7, 5, 3, 3, 4, 5, 5, 4, 5, 5, 5,\n",
              "       5, 5, 5, 6, 5, 6, 3, 5, 1, 6, 4, 5, 5, 5, 5, 0, 9, 5, 1, 8, 5, 9,\n",
              "       3, 7, 6, 5, 5, 0, 5, 5, 5, 6, 1, 5, 5, 4, 3, 5, 4, 7, 5, 5, 2, 5,\n",
              "       3, 5, 0, 3, 5, 5, 5, 5, 5, 3, 5, 5, 5, 5, 5, 5, 9, 5, 1, 5, 7, 5,\n",
              "       6, 6, 6, 4, 5, 5, 5, 5, 1, 7, 0, 2, 4, 5, 5, 7, 5, 7, 1, 0, 2, 9,\n",
              "       5, 9, 4, 5, 5, 0, 5, 5])"
            ]
          },
          "metadata": {
            "tags": []
          },
          "execution_count": 17
        }
      ]
    },
    {
      "cell_type": "code",
      "metadata": {
        "id": "fNMJBkePPUvI",
        "colab_type": "code",
        "colab": {
          "base_uri": "https://localhost:8080/",
          "height": 316
        },
        "outputId": "60ac88a9-88f5-44a3-ec47-c8d19b982282"
      },
      "source": [
        "y"
      ],
      "execution_count": 18,
      "outputs": [
        {
          "output_type": "execute_result",
          "data": {
            "text/plain": [
              "array([8, 5, 9, 3, 6, 0, 2, 0, 6, 8, 8, 9, 7, 4, 0, 2, 9, 1, 8, 1, 5, 8,\n",
              "       4, 0, 3, 2, 6, 9, 1, 5, 9, 1, 0, 5, 4, 6, 9, 0, 2, 9, 0, 2, 6, 3,\n",
              "       5, 6, 5, 0, 3, 7, 3, 2, 8, 1, 7, 5, 5, 9, 2, 0, 4, 3, 8, 9, 8, 9,\n",
              "       9, 0, 0, 0, 9, 5, 0, 0, 5, 6, 0, 1, 9, 3, 4, 8, 0, 8, 9, 2, 3, 4,\n",
              "       6, 1, 6, 1, 4, 2, 2, 8, 3, 1, 9, 1, 1, 4, 0, 0, 7, 0, 4, 2, 3, 3,\n",
              "       7, 2, 7, 5, 7, 4, 7, 7, 3, 5, 7, 1, 1, 3, 1, 8, 3, 5, 5, 6, 4, 6,\n",
              "       2, 3, 2, 8, 7, 6, 8, 3, 2, 6, 2, 3, 7, 2, 8, 1, 1, 0, 3, 7, 0, 9,\n",
              "       0, 9, 2, 4, 5, 2, 0, 8, 6, 1, 5, 3, 4, 7, 0, 5, 6, 2, 7, 4, 6, 3,\n",
              "       9, 5, 0, 2, 8, 4, 8, 5, 0, 1, 2, 2, 3, 1, 7, 7, 5, 7, 1, 2, 5, 2,\n",
              "       7, 9, 1, 4, 1, 6, 8, 5, 3, 8, 9, 9, 6, 5, 6, 8, 7, 6, 3, 4, 2, 6,\n",
              "       5, 7, 6, 6, 6, 2, 3, 5, 2, 5, 3, 6, 7, 8, 2, 9, 1, 4, 8, 4, 5, 5,\n",
              "       5, 4, 1, 2, 1, 7, 0, 9, 6, 5, 9, 7, 8, 3, 3, 4, 8, 1, 4, 5, 7, 4,\n",
              "       8, 2, 6, 6, 8, 6, 3, 2, 1, 6, 4, 1, 3, 8, 9, 0, 9, 4, 1, 8, 2, 9,\n",
              "       3, 7, 6, 3, 1, 0, 3, 3, 8, 6, 1, 8, 1, 4, 3, 4, 4, 7, 3, 9, 2, 3,\n",
              "       3, 2, 0, 3, 4, 0, 0, 1, 8, 3, 2, 3, 4, 2, 9, 3, 9, 5, 1, 8, 7, 0,\n",
              "       6, 6, 6, 4, 5, 7, 1, 6, 1, 7, 0, 2, 4, 4, 0, 7, 8, 7, 1, 0, 2, 9,\n",
              "       4, 9, 4, 2, 8, 0, 4, 2])"
            ]
          },
          "metadata": {
            "tags": []
          },
          "execution_count": 18
        }
      ]
    },
    {
      "cell_type": "code",
      "metadata": {
        "id": "UDv_e4uAPXeF",
        "colab_type": "code",
        "colab": {}
      },
      "source": [
        "from sklearn.metrics import accuracy_score"
      ],
      "execution_count": 0,
      "outputs": []
    },
    {
      "cell_type": "code",
      "metadata": {
        "id": "GG7uzIhOPgvT",
        "colab_type": "code",
        "colab": {
          "base_uri": "https://localhost:8080/",
          "height": 34
        },
        "outputId": "16cf5b9b-f718-44d1-e780-19615308211c"
      },
      "source": [
        "accuracy_score(output,y)"
      ],
      "execution_count": 20,
      "outputs": [
        {
          "output_type": "execute_result",
          "data": {
            "text/plain": [
              "0.5722222222222222"
            ]
          },
          "metadata": {
            "tags": []
          },
          "execution_count": 20
        }
      ]
    },
    {
      "cell_type": "code",
      "metadata": {
        "id": "FUWPXzAYPmWb",
        "colab_type": "code",
        "colab": {}
      },
      "source": [
        "import smtplib\n"
      ],
      "execution_count": 0,
      "outputs": []
    },
    {
      "cell_type": "code",
      "metadata": {
        "id": "Aqq-1DpTVLsG",
        "colab_type": "code",
        "colab": {
          "base_uri": "https://localhost:8080/",
          "height": 826
        },
        "outputId": "e6545795-698d-47c6-9693-f92634105af4"
      },
      "source": [
        "dir(smtplib)"
      ],
      "execution_count": 23,
      "outputs": [
        {
          "output_type": "execute_result",
          "data": {
            "text/plain": [
              "['CRLF',\n",
              " 'LMTP',\n",
              " 'LMTP_PORT',\n",
              " 'OLDSTYLE_AUTH',\n",
              " 'SMTP',\n",
              " 'SMTPAuthenticationError',\n",
              " 'SMTPConnectError',\n",
              " 'SMTPDataError',\n",
              " 'SMTPException',\n",
              " 'SMTPHeloError',\n",
              " 'SMTPNotSupportedError',\n",
              " 'SMTPRecipientsRefused',\n",
              " 'SMTPResponseException',\n",
              " 'SMTPSenderRefused',\n",
              " 'SMTPServerDisconnected',\n",
              " 'SMTP_PORT',\n",
              " 'SMTP_SSL',\n",
              " 'SMTP_SSL_PORT',\n",
              " '_MAXLINE',\n",
              " '__all__',\n",
              " '__builtins__',\n",
              " '__cached__',\n",
              " '__doc__',\n",
              " '__file__',\n",
              " '__loader__',\n",
              " '__name__',\n",
              " '__package__',\n",
              " '__spec__',\n",
              " '_addr_only',\n",
              " '_fix_eols',\n",
              " '_have_ssl',\n",
              " '_quote_periods',\n",
              " 'bCRLF',\n",
              " 'base64',\n",
              " 'copy',\n",
              " 'datetime',\n",
              " 'email',\n",
              " 'encode_base64',\n",
              " 'hmac',\n",
              " 'io',\n",
              " 'quoteaddr',\n",
              " 'quotedata',\n",
              " 're',\n",
              " 'socket',\n",
              " 'ssl',\n",
              " 'sys']"
            ]
          },
          "metadata": {
            "tags": []
          },
          "execution_count": 23
        }
      ]
    },
    {
      "cell_type": "code",
      "metadata": {
        "id": "bgbJfSmEVOlw",
        "colab_type": "code",
        "colab": {
          "base_uri": "https://localhost:8080/",
          "height": 132
        },
        "outputId": "6cb4d4f5-2f71-4685-8f39-bf854ff10c21"
      },
      "source": [
        "server=smtplib.SMTP_SSL('smtp.gmail.com', 465)\n",
        "server.ehlo() server.login(kanikamaheshwari018@gmail.com,kanikakani)"
      ],
      "execution_count": 34,
      "outputs": [
        {
          "output_type": "error",
          "ename": "SyntaxError",
          "evalue": "ignored",
          "traceback": [
            "\u001b[0;36m  File \u001b[0;32m\"<ipython-input-34-c49fc53d4ec7>\"\u001b[0;36m, line \u001b[0;32m2\u001b[0m\n\u001b[0;31m    server.ehlo() server.login(kanikamaheshwari018@gmail.com,kanikakani)\u001b[0m\n\u001b[0m                       ^\u001b[0m\n\u001b[0;31mSyntaxError\u001b[0m\u001b[0;31m:\u001b[0m invalid syntax\n"
          ]
        }
      ]
    },
    {
      "cell_type": "code",
      "metadata": {
        "id": "Lxi9gW2ddMK8",
        "colab_type": "code",
        "colab": {}
      },
      "source": [
        "server = smtplib.SMTP_SSL('smtp.gmail.com', 465)"
      ],
      "execution_count": 0,
      "outputs": []
    },
    {
      "cell_type": "code",
      "metadata": {
        "id": "QOOQ8LUwdYkj",
        "colab_type": "code",
        "colab": {
          "base_uri": "https://localhost:8080/",
          "height": 132
        },
        "outputId": "5b94a650-3ea8-4368-b726-a00fa4f61819"
      },
      "source": [
        "smtp.gmail.com\n",
        "requires SSL:yes\n",
        "requires authentication:yes\n",
        "  port for SSL:465"
      ],
      "execution_count": 36,
      "outputs": [
        {
          "output_type": "error",
          "ename": "SyntaxError",
          "evalue": "ignored",
          "traceback": [
            "\u001b[0;36m  File \u001b[0;32m\"<ipython-input-36-cd5302fd0b14>\"\u001b[0;36m, line \u001b[0;32m2\u001b[0m\n\u001b[0;31m    requires SSL:yes\u001b[0m\n\u001b[0m               ^\u001b[0m\n\u001b[0;31mSyntaxError\u001b[0m\u001b[0;31m:\u001b[0m invalid syntax\n"
          ]
        }
      ]
    },
    {
      "cell_type": "code",
      "metadata": {
        "id": "tHQbscrAho8X",
        "colab_type": "code",
        "colab": {}
      },
      "source": [
        "server = smtplib.SMTP_SSL('smtp.gmail.com', 465)"
      ],
      "execution_count": 0,
      "outputs": []
    },
    {
      "cell_type": "code",
      "metadata": {
        "id": "rilssQdvhx72",
        "colab_type": "code",
        "colab": {
          "base_uri": "https://localhost:8080/",
          "height": 385
        },
        "outputId": "726272a7-5d9d-4c06-a044-6ffe2a3d865c"
      },
      "source": [
        "server.login(\"kanikamaheshwari018@gmail.com\", \"kanikakani\")\n",
        "server.sendmail(\n",
        "  \"fromkanikamaheshwari018@gmail.com\", \n",
        "  \"to23nidhi1999jajoo@gmail.com\", \n",
        "  \"this message is from python\")"
      ],
      "execution_count": 40,
      "outputs": [
        {
          "output_type": "error",
          "ename": "SMTPAuthenticationError",
          "evalue": "ignored",
          "traceback": [
            "\u001b[0;31m---------------------------------------------------------------------------\u001b[0m",
            "\u001b[0;31mSMTPAuthenticationError\u001b[0m                   Traceback (most recent call last)",
            "\u001b[0;32m<ipython-input-40-0b81e28812c4>\u001b[0m in \u001b[0;36m<module>\u001b[0;34m()\u001b[0m\n\u001b[0;32m----> 1\u001b[0;31m \u001b[0mserver\u001b[0m\u001b[0;34m.\u001b[0m\u001b[0mlogin\u001b[0m\u001b[0;34m(\u001b[0m\u001b[0;34m\"kanikamaheshwari018@gmail.com\"\u001b[0m\u001b[0;34m,\u001b[0m \u001b[0;34m\"kanikakani\"\u001b[0m\u001b[0;34m)\u001b[0m\u001b[0;34m\u001b[0m\u001b[0;34m\u001b[0m\u001b[0m\n\u001b[0m\u001b[1;32m      2\u001b[0m server.sendmail(\n\u001b[1;32m      3\u001b[0m   \u001b[0;34m\"fromkanikamaheshwari018@gmail.com\"\u001b[0m\u001b[0;34m,\u001b[0m\u001b[0;34m\u001b[0m\u001b[0;34m\u001b[0m\u001b[0m\n\u001b[1;32m      4\u001b[0m   \u001b[0;34m\"to23nidhi1999jajoo@gmail.com\"\u001b[0m\u001b[0;34m,\u001b[0m\u001b[0;34m\u001b[0m\u001b[0;34m\u001b[0m\u001b[0m\n\u001b[1;32m      5\u001b[0m   \"this message is from python\")\n",
            "\u001b[0;32m/usr/lib/python3.6/smtplib.py\u001b[0m in \u001b[0;36mlogin\u001b[0;34m(self, user, password, initial_response_ok)\u001b[0m\n\u001b[1;32m    728\u001b[0m \u001b[0;34m\u001b[0m\u001b[0m\n\u001b[1;32m    729\u001b[0m         \u001b[0;31m# We could not login successfully.  Return result of last attempt.\u001b[0m\u001b[0;34m\u001b[0m\u001b[0;34m\u001b[0m\u001b[0;34m\u001b[0m\u001b[0m\n\u001b[0;32m--> 730\u001b[0;31m         \u001b[0;32mraise\u001b[0m \u001b[0mlast_exception\u001b[0m\u001b[0;34m\u001b[0m\u001b[0;34m\u001b[0m\u001b[0m\n\u001b[0m\u001b[1;32m    731\u001b[0m \u001b[0;34m\u001b[0m\u001b[0m\n\u001b[1;32m    732\u001b[0m     \u001b[0;32mdef\u001b[0m \u001b[0mstarttls\u001b[0m\u001b[0;34m(\u001b[0m\u001b[0mself\u001b[0m\u001b[0;34m,\u001b[0m \u001b[0mkeyfile\u001b[0m\u001b[0;34m=\u001b[0m\u001b[0;32mNone\u001b[0m\u001b[0;34m,\u001b[0m \u001b[0mcertfile\u001b[0m\u001b[0;34m=\u001b[0m\u001b[0;32mNone\u001b[0m\u001b[0;34m,\u001b[0m \u001b[0mcontext\u001b[0m\u001b[0;34m=\u001b[0m\u001b[0;32mNone\u001b[0m\u001b[0;34m)\u001b[0m\u001b[0;34m:\u001b[0m\u001b[0;34m\u001b[0m\u001b[0;34m\u001b[0m\u001b[0m\n",
            "\u001b[0;32m/usr/lib/python3.6/smtplib.py\u001b[0m in \u001b[0;36mlogin\u001b[0;34m(self, user, password, initial_response_ok)\u001b[0m\n\u001b[1;32m    719\u001b[0m                 (code, resp) = self.auth(\n\u001b[1;32m    720\u001b[0m                     \u001b[0mauthmethod\u001b[0m\u001b[0;34m,\u001b[0m \u001b[0mgetattr\u001b[0m\u001b[0;34m(\u001b[0m\u001b[0mself\u001b[0m\u001b[0;34m,\u001b[0m \u001b[0mmethod_name\u001b[0m\u001b[0;34m)\u001b[0m\u001b[0;34m,\u001b[0m\u001b[0;34m\u001b[0m\u001b[0;34m\u001b[0m\u001b[0m\n\u001b[0;32m--> 721\u001b[0;31m                     initial_response_ok=initial_response_ok)\n\u001b[0m\u001b[1;32m    722\u001b[0m                 \u001b[0;31m# 235 == 'Authentication successful'\u001b[0m\u001b[0;34m\u001b[0m\u001b[0;34m\u001b[0m\u001b[0;34m\u001b[0m\u001b[0m\n\u001b[1;32m    723\u001b[0m                 \u001b[0;31m# 503 == 'Error: already authenticated'\u001b[0m\u001b[0;34m\u001b[0m\u001b[0;34m\u001b[0m\u001b[0;34m\u001b[0m\u001b[0m\n",
            "\u001b[0;32m/usr/lib/python3.6/smtplib.py\u001b[0m in \u001b[0;36mauth\u001b[0;34m(self, mechanism, authobject, initial_response_ok)\u001b[0m\n\u001b[1;32m    640\u001b[0m         \u001b[0;32mif\u001b[0m \u001b[0mcode\u001b[0m \u001b[0;32min\u001b[0m \u001b[0;34m(\u001b[0m\u001b[0;36m235\u001b[0m\u001b[0;34m,\u001b[0m \u001b[0;36m503\u001b[0m\u001b[0;34m)\u001b[0m\u001b[0;34m:\u001b[0m\u001b[0;34m\u001b[0m\u001b[0;34m\u001b[0m\u001b[0m\n\u001b[1;32m    641\u001b[0m             \u001b[0;32mreturn\u001b[0m \u001b[0;34m(\u001b[0m\u001b[0mcode\u001b[0m\u001b[0;34m,\u001b[0m \u001b[0mresp\u001b[0m\u001b[0;34m)\u001b[0m\u001b[0;34m\u001b[0m\u001b[0;34m\u001b[0m\u001b[0m\n\u001b[0;32m--> 642\u001b[0;31m         \u001b[0;32mraise\u001b[0m \u001b[0mSMTPAuthenticationError\u001b[0m\u001b[0;34m(\u001b[0m\u001b[0mcode\u001b[0m\u001b[0;34m,\u001b[0m \u001b[0mresp\u001b[0m\u001b[0;34m)\u001b[0m\u001b[0;34m\u001b[0m\u001b[0;34m\u001b[0m\u001b[0m\n\u001b[0m\u001b[1;32m    643\u001b[0m \u001b[0;34m\u001b[0m\u001b[0m\n\u001b[1;32m    644\u001b[0m     \u001b[0;32mdef\u001b[0m \u001b[0mauth_cram_md5\u001b[0m\u001b[0;34m(\u001b[0m\u001b[0mself\u001b[0m\u001b[0;34m,\u001b[0m \u001b[0mchallenge\u001b[0m\u001b[0;34m=\u001b[0m\u001b[0;32mNone\u001b[0m\u001b[0;34m)\u001b[0m\u001b[0;34m:\u001b[0m\u001b[0;34m\u001b[0m\u001b[0;34m\u001b[0m\u001b[0m\n",
            "\u001b[0;31mSMTPAuthenticationError\u001b[0m: (535, b'5.7.8 Username and Password not accepted. Learn more at\\n5.7.8  https://support.google.com/mail/?p=BadCredentials u5sm16158071uah.0 - gsmtp')"
          ]
        }
      ]
    },
    {
      "cell_type": "code",
      "metadata": {
        "id": "dMWDrTcOiAte",
        "colab_type": "code",
        "colab": {}
      },
      "source": [
        ""
      ],
      "execution_count": 0,
      "outputs": []
    }
  ]
}